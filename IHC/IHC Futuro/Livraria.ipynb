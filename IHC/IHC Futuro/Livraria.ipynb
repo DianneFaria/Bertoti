{
  "cells": [
    {
      "cell_type": "code",
      "execution_count": 1,
      "metadata": {
        "colab": {
          "base_uri": "https://localhost:8080/"
        },
        "id": "rNMnM0-1RB-e",
        "outputId": "bebdf3fa-e9e8-4d70-b487-c5841c1836fd"
      },
      "outputs": [
        {
          "output_type": "stream",
          "name": "stdout",
          "text": [
            "Collecting python-telegram-bot==13.7\n",
            "  Downloading python_telegram_bot-13.7-py3-none-any.whl (490 kB)\n",
            "\u001b[2K     \u001b[90m━━━━━━━━━━━━━━━━━━━━━━━━━━━━━━━━━━━━━━━━\u001b[0m \u001b[32m490.1/490.1 kB\u001b[0m \u001b[31m4.9 MB/s\u001b[0m eta \u001b[36m0:00:00\u001b[0m\n",
            "\u001b[?25hRequirement already satisfied: certifi in /usr/local/lib/python3.10/dist-packages (from python-telegram-bot==13.7) (2024.2.2)\n",
            "Requirement already satisfied: tornado>=6.1 in /usr/local/lib/python3.10/dist-packages (from python-telegram-bot==13.7) (6.3.3)\n",
            "Collecting APScheduler==3.6.3 (from python-telegram-bot==13.7)\n",
            "  Downloading APScheduler-3.6.3-py2.py3-none-any.whl (58 kB)\n",
            "\u001b[2K     \u001b[90m━━━━━━━━━━━━━━━━━━━━━━━━━━━━━━━━━━━━━━━━\u001b[0m \u001b[32m58.9/58.9 kB\u001b[0m \u001b[31m5.8 MB/s\u001b[0m eta \u001b[36m0:00:00\u001b[0m\n",
            "\u001b[?25hRequirement already satisfied: pytz>=2018.6 in /usr/local/lib/python3.10/dist-packages (from python-telegram-bot==13.7) (2023.4)\n",
            "Collecting cachetools==4.2.2 (from python-telegram-bot==13.7)\n",
            "  Downloading cachetools-4.2.2-py3-none-any.whl (11 kB)\n",
            "Requirement already satisfied: setuptools>=0.7 in /usr/local/lib/python3.10/dist-packages (from APScheduler==3.6.3->python-telegram-bot==13.7) (67.7.2)\n",
            "Requirement already satisfied: six>=1.4.0 in /usr/local/lib/python3.10/dist-packages (from APScheduler==3.6.3->python-telegram-bot==13.7) (1.16.0)\n",
            "Requirement already satisfied: tzlocal>=1.2 in /usr/local/lib/python3.10/dist-packages (from APScheduler==3.6.3->python-telegram-bot==13.7) (5.2)\n",
            "Installing collected packages: cachetools, APScheduler, python-telegram-bot\n",
            "  Attempting uninstall: cachetools\n",
            "    Found existing installation: cachetools 5.3.3\n",
            "    Uninstalling cachetools-5.3.3:\n",
            "      Successfully uninstalled cachetools-5.3.3\n",
            "Successfully installed APScheduler-3.6.3 cachetools-4.2.2 python-telegram-bot-13.7\n"
          ]
        }
      ],
      "source": [
        "!pip install python-telegram-bot==13.7"
      ]
    },
    {
      "cell_type": "code",
      "execution_count": 2,
      "metadata": {
        "colab": {
          "base_uri": "https://localhost:8080/"
        },
        "id": "achzWLBJPQEX",
        "outputId": "800d6377-ff01-48b7-b989-6a98fcde1737"
      },
      "outputs": [
        {
          "output_type": "stream",
          "name": "stdout",
          "text": [
            "Collecting llama_cpp_python\n",
            "  Downloading llama_cpp_python-0.2.76.tar.gz (49.4 MB)\n",
            "\u001b[2K     \u001b[90m━━━━━━━━━━━━━━━━━━━━━━━━━━━━━━━━━━━━━━━━\u001b[0m \u001b[32m49.4/49.4 MB\u001b[0m \u001b[31m15.1 MB/s\u001b[0m eta \u001b[36m0:00:00\u001b[0m\n",
            "\u001b[?25h  Installing build dependencies ... \u001b[?25l\u001b[?25hdone\n",
            "  Getting requirements to build wheel ... \u001b[?25l\u001b[?25hdone\n",
            "  Installing backend dependencies ... \u001b[?25l\u001b[?25hdone\n",
            "  Preparing metadata (pyproject.toml) ... \u001b[?25l\u001b[?25hdone\n",
            "Requirement already satisfied: typing-extensions>=4.5.0 in /usr/local/lib/python3.10/dist-packages (from llama_cpp_python) (4.11.0)\n",
            "Requirement already satisfied: numpy>=1.20.0 in /usr/local/lib/python3.10/dist-packages (from llama_cpp_python) (1.25.2)\n",
            "Collecting diskcache>=5.6.1 (from llama_cpp_python)\n",
            "  Downloading diskcache-5.6.3-py3-none-any.whl (45 kB)\n",
            "\u001b[2K     \u001b[90m━━━━━━━━━━━━━━━━━━━━━━━━━━━━━━━━━━━━━━━━\u001b[0m \u001b[32m45.5/45.5 kB\u001b[0m \u001b[31m6.1 MB/s\u001b[0m eta \u001b[36m0:00:00\u001b[0m\n",
            "\u001b[?25hRequirement already satisfied: jinja2>=2.11.3 in /usr/local/lib/python3.10/dist-packages (from llama_cpp_python) (3.1.4)\n",
            "Requirement already satisfied: MarkupSafe>=2.0 in /usr/local/lib/python3.10/dist-packages (from jinja2>=2.11.3->llama_cpp_python) (2.1.5)\n",
            "Building wheels for collected packages: llama_cpp_python\n",
            "  Building wheel for llama_cpp_python (pyproject.toml) ... \u001b[?25l\u001b[?25hdone\n",
            "  Created wheel for llama_cpp_python: filename=llama_cpp_python-0.2.76-cp310-cp310-linux_x86_64.whl size=3658149 sha256=ed1cbaf758998cd4b6aa0332c90e4d6b1326ec348eb5744485642f5493447af1\n",
            "  Stored in directory: /root/.cache/pip/wheels/a0/e5/04/a5fa9e60033548f205f0db5f6ab6f59cd27bd0da7f9c51cfe7\n",
            "Successfully built llama_cpp_python\n",
            "Installing collected packages: diskcache, llama_cpp_python\n",
            "Successfully installed diskcache-5.6.3 llama_cpp_python-0.2.76\n"
          ]
        }
      ],
      "source": [
        "!pip install llama_cpp_python"
      ]
    },
    {
      "cell_type": "code",
      "execution_count": 3,
      "metadata": {
        "colab": {
          "base_uri": "https://localhost:8080/"
        },
        "id": "WBaK2n60PQsZ",
        "outputId": "f0af7b40-9809-40db-c9df-fa2c60944c0a"
      },
      "outputs": [
        {
          "output_type": "stream",
          "name": "stdout",
          "text": [
            "Collecting pytelegrambotapi\n",
            "  Downloading pytelegrambotapi-4.18.1-py3-none-any.whl (242 kB)\n",
            "\u001b[?25l     \u001b[90m━━━━━━━━━━━━━━━━━━━━━━━━━━━━━━━━━━━━━━━━\u001b[0m \u001b[32m0.0/242.9 kB\u001b[0m \u001b[31m?\u001b[0m eta \u001b[36m-:--:--\u001b[0m\r\u001b[2K     \u001b[91m━━━━━━━━━━━━━━━━━━━━━━━━━━━━\u001b[0m\u001b[91m╸\u001b[0m\u001b[90m━━━━━━━━━━━\u001b[0m \u001b[32m174.1/242.9 kB\u001b[0m \u001b[31m5.0 MB/s\u001b[0m eta \u001b[36m0:00:01\u001b[0m\r\u001b[2K     \u001b[90m━━━━━━━━━━━━━━━━━━━━━━━━━━━━━━━━━━━━━━━━\u001b[0m \u001b[32m242.9/242.9 kB\u001b[0m \u001b[31m4.8 MB/s\u001b[0m eta \u001b[36m0:00:00\u001b[0m\n",
            "\u001b[?25hRequirement already satisfied: requests in /usr/local/lib/python3.10/dist-packages (from pytelegrambotapi) (2.31.0)\n",
            "Requirement already satisfied: charset-normalizer<4,>=2 in /usr/local/lib/python3.10/dist-packages (from requests->pytelegrambotapi) (3.3.2)\n",
            "Requirement already satisfied: idna<4,>=2.5 in /usr/local/lib/python3.10/dist-packages (from requests->pytelegrambotapi) (3.7)\n",
            "Requirement already satisfied: urllib3<3,>=1.21.1 in /usr/local/lib/python3.10/dist-packages (from requests->pytelegrambotapi) (2.0.7)\n",
            "Requirement already satisfied: certifi>=2017.4.17 in /usr/local/lib/python3.10/dist-packages (from requests->pytelegrambotapi) (2024.2.2)\n",
            "Installing collected packages: pytelegrambotapi\n",
            "Successfully installed pytelegrambotapi-4.18.1\n"
          ]
        }
      ],
      "source": [
        "! pip install pytelegrambotapi"
      ]
    },
    {
      "cell_type": "code",
      "execution_count": 4,
      "metadata": {
        "id": "BVMPJFJOPYuS"
      },
      "outputs": [],
      "source": [
        "from llama_cpp import Llama\n",
        "from llama_cpp.llama_tokenizer import LlamaHFTokenizer"
      ]
    },
    {
      "cell_type": "code",
      "source": [
        "import sqlite3\n",
        "\n",
        "# Conectar ao banco de dados SQLite\n",
        "conexao = sqlite3.connect('livraria.db')\n",
        "c = conexao.cursor()\n",
        "\n",
        "# Criar tabela de livros se não existir\n",
        "c.execute('''CREATE TABLE IF NOT EXISTS livros\n",
        "             (id INTEGER PRIMARY KEY, titulo TEXT)''')\n",
        "\n",
        "# Inserir dados na tabela se não existirem\n",
        "livros = [('Dom Quixote',), ('O Pequeno Príncipe',), ('Flores para Algernon',), ('Um Homem Chamado Ove',)]\n",
        "c.executemany(\"INSERT INTO livros (titulo) VALUES (?)\", livros)\n",
        "\n",
        "# Commit e fechar a conexão\n",
        "conexao.commit()\n",
        "conexao.close()"
      ],
      "metadata": {
        "id": "MBlpWCoHQrRU"
      },
      "execution_count": 5,
      "outputs": []
    },
    {
      "cell_type": "code",
      "execution_count": null,
      "metadata": {
        "id": "QTCB-ZrcRUZC"
      },
      "outputs": [],
      "source": [
        "import sqlite3\n",
        "import telebot\n",
        "\n",
        "# Token do bot Telegram\n",
        "API_TOKEN = '7178463135:AAH33BMYdCgIjhfJDL-IIHkY4Yd2LJJLaUI'\n",
        "\n",
        "\n",
        "# Função para conectar ao banco de dados\n",
        "def connect_db():\n",
        "    return sqlite3.connect('livraria.db')\n",
        "\n",
        "# Função para buscar os livros disponíveis\n",
        "def encontrar_livros():\n",
        "    conn = connect_db()\n",
        "    c = conn.cursor()\n",
        "    c.execute('SELECT titulo FROM livros')\n",
        "    titulos = c.fetchall()\n",
        "    conn.close()\n",
        "    return [titulo[0] for titulo in titulos]\n",
        "\n",
        "# Função para buscar o preço de um livro específico\n",
        "def preco_livro(titulo):\n",
        "    conn = connect_db()\n",
        "    c = conn.cursor()\n",
        "    c.execute('SELECT preco FROM livros_precos JOIN livros ON livros_precos.titulo_id = livros.id WHERE titulo = ?', (titulo,))\n",
        "    preco = c.fetchone()\n",
        "    conn.close()\n",
        "    print(\"Preço de\", titulo, \":\", preco)  # Instrução de depuração\n",
        "    if preco is not None:\n",
        "        return preco[0]\n",
        "    else:\n",
        "        return None\n",
        "\n",
        "# Função para adicionar um livro à lista\n",
        "def add_to_list(livro, livro_lista, preco_lista):\n",
        "    preco = preco_livro(livro)\n",
        "    if preco is not None:\n",
        "        livro_lista.append(livro)\n",
        "        preco_lista.append(preco)\n",
        "    else:\n",
        "        print(f\"Preço não encontrado para o livro: {livro}\")\n",
        "\n",
        "# Função para calcular o custo total dos livros na lista\n",
        "def calcular_custo_total(preco_lista):\n",
        "    total_cost = sum(preco_lista)\n",
        "    return total_cost\n",
        "\n",
        "livros_escolhidos = []  # Lista para armazenar os livros escolhidos\n",
        "precos_escolhidos = []  # Lista para armazenar os preços dos livros escolhidos\n",
        "\n",
        "def process_message(message_text):\n",
        "    encontrar_livro = encontrar_livros()\n",
        "\n",
        "    if \"livros\" in message_text.lower():\n",
        "        response = f\"Olá! Temos os seguintes livros disponíveis: {', '.join(encontrar_livro)}. Por favor, informe os livros desejados.\"\n",
        "        return response\n",
        "\n",
        "    elif message_text.lower() in [titulo.lower() for titulo in encontrar_livro]:\n",
        "        livro_escolhido = message_text.lower()\n",
        "        livros_escolhidos.append(livro_escolhido)\n",
        "        response = f\"Você adicionou '{livro_escolhido}' à sua lista de pedidos. Se desejar mais algum livro, por favor, me informe. Caso contrário, diga 'finalizar'.\"\n",
        "        return response\n",
        "\n",
        "    elif \"finalizar\" in message_text.lower():\n",
        "        if livros_escolhidos:\n",
        "            response = f\"Você selecionou os seguintes livros: {', '.join(livros_escolhidos)}. Um atendente virá em breve para tratar dos pagamentos. Obrigado por escolher nossos livros!\"\n",
        "            return response\n",
        "        else:\n",
        "            response = \"Você ainda não selecionou nenhum livro. Por favor, mande a palavra 'livros' para que eu te mostre os livros disponíveis.\"\n",
        "            return response\n",
        "\n",
        "    else:\n",
        "        response = \"Desculpe, não entendi. Por favor, mande a palavra 'livros' para que eu te mostre os livros disponíveis ou finalize sua lista com a palavra 'finalizar'.\"\n",
        "        return response\n",
        "\n",
        "# Iniciar o bot Telegram\n",
        "bot = telebot.TeleBot(API_TOKEN)\n",
        "\n",
        "# Integrar com o manipulador de mensagens do bot\n",
        "@bot.message_handler(func=lambda message: True)\n",
        "def reply_to_message(message):\n",
        "    response = process_message(message.text)\n",
        "    if response:\n",
        "        bot.reply_to(message, response)\n",
        "\n",
        "# Iniciar polling do bot\n",
        "bot.polling()\n"
      ]
    }
  ],
  "metadata": {
    "colab": {
      "provenance": []
    },
    "kernelspec": {
      "display_name": "Python 3",
      "name": "python3"
    },
    "language_info": {
      "name": "python"
    }
  },
  "nbformat": 4,
  "nbformat_minor": 0
}